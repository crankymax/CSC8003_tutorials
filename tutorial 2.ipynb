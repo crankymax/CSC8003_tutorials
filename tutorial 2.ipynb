{
 "cells": [
  {
   "cell_type": "code",
   "execution_count": 1,
   "metadata": {},
   "outputs": [
    {
     "data": {
      "text/plain": [
       "dict_keys(['__header__', '__version__', '__globals__', 'x1', 'x2', 'y', 'XXX'])"
      ]
     },
     "execution_count": 1,
     "metadata": {},
     "output_type": "execute_result"
    }
   ],
   "source": [
    "from scipy.io import loadmat\n",
    "import numpy as np\n",
    "\n",
    "tut2 = loadmat('Tutorial_2.mat')\n",
    "tut2.keys()"
   ]
  },
  {
   "cell_type": "code",
   "execution_count": 2,
   "metadata": {},
   "outputs": [
    {
     "name": "stdout",
     "output_type": "stream",
     "text": [
      "(2857, 1) (2857, 1)\n"
     ]
    }
   ],
   "source": [
    "x1 = tut2['x1'].reshape(-1,1)\n",
    "x2 = tut2['x2'].reshape(-1,1)\n",
    "XXX = tut2['XXX'].reshape(-1,1)\n",
    "y = tut2['y'].reshape(-1,1)\n",
    "print(y.shape,x1.shape)"
   ]
  },
  {
   "cell_type": "code",
   "execution_count": 3,
   "metadata": {},
   "outputs": [
    {
     "name": "stdout",
     "output_type": "stream",
     "text": [
      "x1 R^2 = 0.5619495966956283\n",
      "[[-774.38858515]] [1411.15540713]\n"
     ]
    }
   ],
   "source": [
    "from sklearn.linear_model import LinearRegression\n",
    "\n",
    "reg = LinearRegression().fit(x1, y)\n",
    "r_2 = reg.score(x1,y)\n",
    "print(f'x1 R^2 = {r_2}')\n",
    "print(reg.coef_,reg.intercept_)"
   ]
  },
  {
   "cell_type": "code",
   "execution_count": 4,
   "metadata": {},
   "outputs": [],
   "source": [
    "# generate the model values\n",
    "ny = reg.intercept_ + reg.coef_*x1"
   ]
  },
  {
   "cell_type": "code",
   "execution_count": 5,
   "metadata": {},
   "outputs": [
    {
     "name": "stdout",
     "output_type": "stream",
     "text": [
      "x2 R^2 = 0.43411881386055773\n",
      "[[7.99276724]] [29.74801312]\n"
     ]
    }
   ],
   "source": [
    "reg = LinearRegression().fit(x2, y)\n",
    "r_2 = reg.score(x2,y)\n",
    "print(f'x2 R^2 = {r_2}')\n",
    "print(reg.coef_,reg.intercept_)"
   ]
  },
  {
   "cell_type": "code",
   "execution_count": 6,
   "metadata": {},
   "outputs": [
    {
     "name": "stdout",
     "output_type": "stream",
     "text": [
      "R^2 = 0.5623518524818308\n",
      "[[-7.38584331e+02  4.85773561e-01]] [1347.01168983]\n"
     ]
    }
   ],
   "source": [
    "xx = np.concatenate([x1,x2], axis=1)\n",
    "reg_3 = LinearRegression().fit(xx, y)\n",
    "r_3 = reg_3.score(xx,y)\n",
    "print(f'R^2 = {r_3}')\n",
    "print(reg_3.coef_,reg_3.intercept_)"
   ]
  },
  {
   "cell_type": "code",
   "execution_count": 7,
   "metadata": {},
   "outputs": [
    {
     "name": "stdout",
     "output_type": "stream",
     "text": [
      "R^2 = 0.5700403273478282\n",
      "[[0.75413068]] [13.09182449]\n"
     ]
    }
   ],
   "source": [
    "reg_x = LinearRegression().fit(XXX, y)\n",
    "r_x = reg_x.score(XXX,y)\n",
    "print(f'R^2 = {r_x}')\n",
    "print(reg_x.coef_,reg_x.intercept_)"
   ]
  },
  {
   "cell_type": "code",
   "execution_count": 8,
   "metadata": {},
   "outputs": [
    {
     "data": {
      "text/plain": [
       "(0.7550101504932422, 0.0)"
      ]
     },
     "execution_count": 8,
     "metadata": {},
     "output_type": "execute_result"
    }
   ],
   "source": [
    "# Pearson correlation\n",
    "from scipy import stats\n",
    "\n",
    "stats.pearsonr(XXX.reshape(-1), y.reshape(-1))"
   ]
  },
  {
   "cell_type": "code",
   "execution_count": 12,
   "metadata": {},
   "outputs": [
    {
     "name": "stdout",
     "output_type": "stream",
     "text": [
      "140.0038333931914\n"
     ]
    }
   ],
   "source": [
    "from numpy import linalg as LA\n",
    "# MSE\n",
    "print(1/(y.shape[0]) * LA.norm(XXX-y)**2)"
   ]
  },
  {
   "cell_type": "code",
   "execution_count": 10,
   "metadata": {},
   "outputs": [
    {
     "name": "stdout",
     "output_type": "stream",
     "text": [
      "R^2 = 0.566329998712048\n",
      "[[-3986.57213842    16.80405713]] [4619.60239446]\n"
     ]
    }
   ],
   "source": [
    "xx_nl02 = xx**0.25\n",
    "reg_nlx = LinearRegression().fit(xx_nl02, y)\n",
    "r_nlx = reg_nlx.score(xx_nl02,y)\n",
    "print(f'R^2 = {r_nlx}')\n",
    "print(reg_nlx.coef_,reg_nlx.intercept_)"
   ]
  },
  {
   "cell_type": "code",
   "execution_count": 11,
   "metadata": {},
   "outputs": [
    {
     "name": "stdout",
     "output_type": "stream",
     "text": [
      "R^2 = 0.5876971213598876\n",
      "[[-6.93767121e+00 -8.52118191e-07]] [448.25263159]\n"
     ]
    }
   ],
   "source": [
    "xx_exp = 10**xx\n",
    "reg_elx = LinearRegression().fit(xx_exp, y)\n",
    "r_elx = reg_elx.score(xx_exp,y)\n",
    "print(f'R^2 = {r_elx}')\n",
    "print(reg_elx.coef_,reg_elx.intercept_)"
   ]
  },
  {
   "cell_type": "code",
   "execution_count": null,
   "metadata": {},
   "outputs": [],
   "source": []
  }
 ],
 "metadata": {
  "kernelspec": {
   "display_name": "Python 3",
   "language": "python",
   "name": "python3"
  },
  "language_info": {
   "codemirror_mode": {
    "name": "ipython",
    "version": 3
   },
   "file_extension": ".py",
   "mimetype": "text/x-python",
   "name": "python",
   "nbconvert_exporter": "python",
   "pygments_lexer": "ipython3",
   "version": "3.7.7"
  }
 },
 "nbformat": 4,
 "nbformat_minor": 4
}
